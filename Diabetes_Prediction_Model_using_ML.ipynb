{
  "nbformat": 4,
  "nbformat_minor": 0,
  "metadata": {
    "colab": {
      "provenance": [],
      "authorship_tag": "ABX9TyOhEIbW9KIbYs6UjQK3KFwD",
      "include_colab_link": true
    },
    "kernelspec": {
      "name": "python3",
      "display_name": "Python 3"
    },
    "language_info": {
      "name": "python"
    }
  },
  "cells": [
    {
      "cell_type": "markdown",
      "metadata": {
        "id": "view-in-github",
        "colab_type": "text"
      },
      "source": [
        "<a href=\"https://colab.research.google.com/github/kartiksharma2383/Diabetes-Prediction-Model-using-ML/blob/main/Diabetes_Prediction_Model_using_ML.ipynb\" target=\"_parent\"><img src=\"https://colab.research.google.com/assets/colab-badge.svg\" alt=\"Open In Colab\"/></a>"
      ]
    },
    {
      "cell_type": "code",
      "source": [
        "import pandas as pd\n",
        "from sklearn.model_selection import train_test_split\n",
        "from sklearn.preprocessing import StandardScaler\n",
        "from sklearn.linear_model import LogisticRegression\n",
        "import joblib\n",
        "df = pd.read_csv(\"diabetes.csv\")\n",
        "\n",
        "X = df.drop(\"Outcome\", axis=1)\n",
        "y = df[\"Outcome\"]\n",
        "X_train, X_test, y_train, y_test = train_test_split(X, y, test_size=0.2, random_state=42)\n",
        "scaler = StandardScaler()\n",
        "X_train_scaled = scaler.fit_transform(X_train)\n",
        "X_test_scaled = scaler.transform(X_test)\n",
        "model = LogisticRegression(max_iter=1000)\n",
        "model.fit(X_train_scaled, y_train)\n",
        "joblib.dump(model, \"diabetes_model.pkl\")\n",
        "joblib.dump(scaler, \"scaler.pkl\")\n",
        "print(\"Model training complete and saved!\")\n",
        "print(\"\\nEnter patient details:\")\n",
        "\n",
        "pregnancies = int(input(\"Pregnancies: \"))\n",
        "glucose = float(input(\"Glucose: \"))\n",
        "blood_pressure = float(input(\"Blood Pressure: \"))\n",
        "skin_thickness = float(input(\"Skin Thickness: \"))\n",
        "insulin = float(input(\"Insulin: \"))\n",
        "bmi = float(input(\"BMI: \"))\n",
        "diabetes_pedigree_function = float(input(\"Diabetes Pedigree Function: \"))\n",
        "age = int(input(\"Age: \"))\n",
        "\n",
        "input_data = pd.DataFrame([{\n",
        "    'Pregnancies': pregnancies,\n",
        "    'Glucose': glucose,\n",
        "    'BloodPressure': blood_pressure,\n",
        "    'SkinThickness': skin_thickness,\n",
        "    'Insulin': insulin,\n",
        "    'BMI': bmi,\n",
        "    'DiabetesPedigreeFunction': diabetes_pedigree_function,\n",
        "    'Age': age\n",
        "}])\n",
        "scaler\n",
        "loaded_model = joblib.load(\"diabetes_model.pkl\")\n",
        "loaded_scaler = joblib.load(\"scaler.pkl\")\n",
        "input_data_scaled = loaded_scaler.transform(input_data)\n",
        "prediction = loaded_model.predict(input_data_scaled)\n",
        "\n",
        "print(\"\\nPrediction Result:\")\n",
        "if prediction[0] == 1:\n",
        "    print(\"The person is Diabetic\")\n",
        "else:\n",
        "    print(\"The person is NOT Diabetic\")"
      ],
      "metadata": {
        "colab": {
          "base_uri": "https://localhost:8080/"
        },
        "id": "AIANzoCY3fFW",
        "outputId": "a10f51f7-e4a9-429d-bd7c-81de0bf4fc56"
      },
      "execution_count": 41,
      "outputs": [
        {
          "output_type": "stream",
          "name": "stdout",
          "text": [
            "✅ Model training complete and saved!\n",
            "\n",
            "Enter patient details:\n",
            "Pregnancies: 2\n",
            "Glucose: 5\n",
            "Blood Pressure: 5\n",
            "Skin Thickness: 5\n",
            "Insulin: 5\n",
            "BMI: 5\n",
            "Diabetes Pedigree Function: 5\n",
            "Age: 5\n",
            "\n",
            "Prediction Result:\n",
            "✅ The person is NOT Diabetic\n"
          ]
        }
      ]
    }
  ]
}